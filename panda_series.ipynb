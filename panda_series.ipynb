{
 "cells": [
  {
   "cell_type": "code",
   "execution_count": 2,
   "metadata": {},
   "outputs": [],
   "source": [
    "# import pandas \n",
    "import pandas as pd\n",
    "\n",
    "# Use pandas to create a Series from the following data:\n",
    "# [\"kiwi\", \"mango\", \"strawberry\", \"pineapple\", \"gala apple\", \"honeycrisp apple\", \"tomato\", \"watermelon\", \"honeydew\", \"kiwi\", \"kiwi\", \"kiwi\", \"mango\", \"blueberry\", \"blackberry\", \"gooseberry\", \"papaya\"]\n",
    "\n",
    "# Name the variable that holds the series fruits.\n",
    "\n",
    "# create pandas series and hold in fruits variable\n",
    "fruits = pd.Series([\"kiwi\", \"mango\", \"strawberry\", \"pineapple\", \"gala apple\", \"honeycrisp apple\", \"tomato\", \"watermelon\", \"honeydew\", \"kiwi\", \"kiwi\", \"kiwi\", \"mango\", \"blueberry\", \"blackberry\", \"gooseberry\", \"papaya\"])\n"
   ]
  },
  {
   "cell_type": "code",
   "execution_count": 3,
   "metadata": {},
   "outputs": [
    {
     "data": {
      "text/plain": [
       "count       17\n",
       "unique      13\n",
       "top       kiwi\n",
       "freq         4\n",
       "dtype: object"
      ]
     },
     "execution_count": 3,
     "metadata": {},
     "output_type": "execute_result"
    }
   ],
   "source": [
    "# Run .describe() on the series to see what describe returns for a series of strings.\n",
    "\n",
    "# using describe\n",
    "fruits.describe()"
   ]
  },
  {
   "cell_type": "code",
   "execution_count": 4,
   "metadata": {},
   "outputs": [
    {
     "data": {
      "text/plain": [
       "array(['kiwi', 'mango', 'strawberry', 'pineapple', 'gala apple',\n",
       "       'honeycrisp apple', 'tomato', 'watermelon', 'honeydew',\n",
       "       'blueberry', 'blackberry', 'gooseberry', 'papaya'], dtype=object)"
      ]
     },
     "execution_count": 4,
     "metadata": {},
     "output_type": "execute_result"
    }
   ],
   "source": [
    "# Run the code necessary to produce only the unique fruit names.\n",
    "\n",
    "# using unique to get unique fruit names\n",
    "fruits.unique()"
   ]
  },
  {
   "cell_type": "code",
   "execution_count": 5,
   "metadata": {},
   "outputs": [
    {
     "data": {
      "text/plain": [
       "kiwi                4\n",
       "mango               2\n",
       "tomato              1\n",
       "honeycrisp apple    1\n",
       "watermelon          1\n",
       "blueberry           1\n",
       "pineapple           1\n",
       "gala apple          1\n",
       "honeydew            1\n",
       "blackberry          1\n",
       "gooseberry          1\n",
       "strawberry          1\n",
       "papaya              1\n",
       "dtype: int64"
      ]
     },
     "execution_count": 5,
     "metadata": {},
     "output_type": "execute_result"
    }
   ],
   "source": [
    "# Determine how many times each value occurs in the series.\n",
    "\n",
    "# using value_counts to get a count of how many times each fruit appears in the series\n",
    "fruits.value_counts()"
   ]
  },
  {
   "cell_type": "code",
   "execution_count": 6,
   "metadata": {},
   "outputs": [
    {
     "data": {
      "text/plain": [
       "kiwi    4\n",
       "dtype: int64"
      ]
     },
     "execution_count": 6,
     "metadata": {},
     "output_type": "execute_result"
    }
   ],
   "source": [
    "# Determine the most frequently occurring fruit name from the series.\n",
    "\n",
    "# using value_counts to count the amount of times each fruit appears in the series\n",
    "# then using nlargest the show the fruit with the highest count\n",
    "fruits.value_counts().nlargest(1, keep='all')"
   ]
  },
  {
   "cell_type": "code",
   "execution_count": 7,
   "metadata": {},
   "outputs": [
    {
     "data": {
      "text/plain": [
       "tomato              1\n",
       "honeycrisp apple    1\n",
       "watermelon          1\n",
       "blueberry           1\n",
       "pineapple           1\n",
       "gala apple          1\n",
       "honeydew            1\n",
       "blackberry          1\n",
       "gooseberry          1\n",
       "strawberry          1\n",
       "papaya              1\n",
       "dtype: int64"
      ]
     },
     "execution_count": 7,
     "metadata": {},
     "output_type": "execute_result"
    }
   ],
   "source": [
    "# using value_counts to count the amount of times each fruit appears in the series\n",
    "# then using nlargest to select the smallest value in the series\n",
    "fruits.value_counts().nsmallest(1,keep='all')\n",
    "\n",
    "#fruits.value_counts().iloc[0]"
   ]
  },
  {
   "cell_type": "code",
   "execution_count": 8,
   "metadata": {},
   "outputs": [
    {
     "data": {
      "text/plain": [
       "5    honeycrisp apple\n",
       "dtype: object"
      ]
     },
     "execution_count": 8,
     "metadata": {},
     "output_type": "execute_result"
    }
   ],
   "source": [
    "# Write the code to get the longest string from the fruits series.\n",
    "\n",
    "# using str to allow len to be used\n",
    "# using len to compare the length of each fruits name\n",
    "# to the highest character count of any fruits name\n",
    "# that was found via max\n",
    "fruits[fruits.str.len() == max(fruits.str.len())]"
   ]
  },
  {
   "cell_type": "code",
   "execution_count": 9,
   "metadata": {},
   "outputs": [
    {
     "data": {
      "text/plain": [
       "1                mango\n",
       "2           strawberry\n",
       "3            pineapple\n",
       "4           gala apple\n",
       "5     honeycrisp apple\n",
       "6               tomato\n",
       "7           watermelon\n",
       "8             honeydew\n",
       "12               mango\n",
       "13           blueberry\n",
       "14          blackberry\n",
       "15          gooseberry\n",
       "16              papaya\n",
       "dtype: object"
      ]
     },
     "execution_count": 9,
     "metadata": {},
     "output_type": "execute_result"
    }
   ],
   "source": [
    "# Find the fruit(s) with 5 or more letters in the name.\n",
    "\n",
    "# using str to allow len to be used\n",
    "# using len to count the amount of characters in each fruit\n",
    "# and filtering the fruit if its fruit is equal to or greater than 5\n",
    "(fruits[fruits.str.len() >= 5])"
   ]
  },
  {
   "cell_type": "code",
   "execution_count": 10,
   "metadata": {},
   "outputs": [
    {
     "data": {
      "text/plain": [
       "array(['Kiwi', 'Mango', 'Strawberry', 'Pineapple', 'Gala apple',\n",
       "       'Honeycrisp apple', 'Tomato', 'Watermelon', 'Honeydew',\n",
       "       'Blueberry', 'Blackberry', 'Gooseberry', 'Papaya'], dtype=object)"
      ]
     },
     "execution_count": 10,
     "metadata": {},
     "output_type": "execute_result"
    }
   ],
   "source": [
    "# Capitalize all the fruit strings in the series.\n",
    "\n",
    "# using vectorized string operation to capitalize the first letter of every fruits\n",
    "# using unique to only display each fruit once\n",
    "fruits.str.capitalize().unique()"
   ]
  },
  {
   "cell_type": "code",
   "execution_count": 11,
   "metadata": {},
   "outputs": [
    {
     "data": {
      "text/plain": [
       "0     0\n",
       "1     1\n",
       "2     1\n",
       "3     1\n",
       "4     3\n",
       "5     1\n",
       "6     1\n",
       "7     1\n",
       "8     0\n",
       "9     0\n",
       "10    0\n",
       "11    0\n",
       "12    1\n",
       "13    0\n",
       "14    1\n",
       "15    0\n",
       "16    3\n",
       "dtype: int64"
      ]
     },
     "execution_count": 11,
     "metadata": {},
     "output_type": "execute_result"
    }
   ],
   "source": [
    "# Count the letter \"a\" in all the fruits (use string vectorization)\n",
    "\n",
    "# using str to count the amount of times that a appears in each fruit name \n",
    "(fruits.str.count('a'))"
   ]
  },
  {
   "cell_type": "code",
   "execution_count": 12,
   "metadata": {},
   "outputs": [
    {
     "data": {
      "text/plain": [
       "0     2\n",
       "1     2\n",
       "2     2\n",
       "3     4\n",
       "4     4\n",
       "5     5\n",
       "6     3\n",
       "7     4\n",
       "8     3\n",
       "9     2\n",
       "10    2\n",
       "11    2\n",
       "12    2\n",
       "13    3\n",
       "14    2\n",
       "15    4\n",
       "16    3\n",
       "dtype: int64"
      ]
     },
     "execution_count": 12,
     "metadata": {},
     "output_type": "execute_result"
    }
   ],
   "source": [
    "# Output the number of vowels in each and every fruit.\n",
    "\n",
    "# using str to allow the use of count to count how many vowels are in each fruit\n",
    "fruits.str.count('[aeiou]')"
   ]
  },
  {
   "cell_type": "code",
   "execution_count": 13,
   "metadata": {},
   "outputs": [
    {
     "data": {
      "text/plain": [
       "0     doesnt have 2 o's\n",
       "1     doesnt have 2 o's\n",
       "2     doesnt have 2 o's\n",
       "3     doesnt have 2 o's\n",
       "4     doesnt have 2 o's\n",
       "5     doesnt have 2 o's\n",
       "6                tomato\n",
       "7     doesnt have 2 o's\n",
       "8     doesnt have 2 o's\n",
       "9     doesnt have 2 o's\n",
       "10    doesnt have 2 o's\n",
       "11    doesnt have 2 o's\n",
       "12    doesnt have 2 o's\n",
       "13    doesnt have 2 o's\n",
       "14    doesnt have 2 o's\n",
       "15           gooseberry\n",
       "16    doesnt have 2 o's\n",
       "dtype: object"
      ]
     },
     "execution_count": 13,
     "metadata": {},
     "output_type": "execute_result"
    }
   ],
   "source": [
    "# Use the .apply method and a lambda function to find the fruit(s) containing two or more \"o\" letters in the name.\n",
    "\n",
    "# using lambda to display any fruits that contain 2 or more o's and displaying the\n",
    "# an alternate message otherwise\n",
    "fruits.apply(lambda n: n if n.count('o') >= 2 else 'doesnt have 2 o\\'s')\n",
    "\n",
    "# alt solution\n",
    "#fruits[fruits.str.count('o') >= 2]"
   ]
  },
  {
   "cell_type": "code",
   "execution_count": 14,
   "metadata": {},
   "outputs": [
    {
     "data": {
      "text/plain": [
       "2     strawberry\n",
       "13     blueberry\n",
       "14    blackberry\n",
       "15    gooseberry\n",
       "dtype: object"
      ]
     },
     "execution_count": 14,
     "metadata": {},
     "output_type": "execute_result"
    }
   ],
   "source": [
    "# Write the code to get only the fruits containing \"berry\" in the name\n",
    "\n",
    "\n",
    "# using str to allow count to be used \n",
    "# then using count to filter in any fruits \n",
    "# that contain the string berry\n",
    "fruits[fruits.str.count('berry') > 0]\n",
    "\n",
    "# alt solution\n",
    "#fruits.apply(lambda n: n if 'berry' in n else 'not a berry')"
   ]
  },
  {
   "cell_type": "code",
   "execution_count": 15,
   "metadata": {},
   "outputs": [
    {
     "data": {
      "text/plain": [
       "3           pineapple\n",
       "4          gala apple\n",
       "5    honeycrisp apple\n",
       "dtype: object"
      ]
     },
     "execution_count": 15,
     "metadata": {},
     "output_type": "execute_result"
    }
   ],
   "source": [
    "# Write the code to get only the fruits containing \"apple\" in the name\n",
    "\n",
    "# using str to allow count to be used \n",
    "# then using count to filter any fruits that contain the string apple\n",
    "fruits[fruits.str.count('apple') > 0]"
   ]
  },
  {
   "cell_type": "code",
   "execution_count": 16,
   "metadata": {},
   "outputs": [
    {
     "data": {
      "text/plain": [
       "5    honeycrisp apple\n",
       "dtype: object"
      ]
     },
     "execution_count": 16,
     "metadata": {},
     "output_type": "execute_result"
    }
   ],
   "source": [
    "# Which fruit has the highest amount of vowels?\n",
    "\n",
    "# using str to allow the use of count\n",
    "# using count to count the number of vowels in each fruit\n",
    "# comparing the number of vowels in each fruit to the max number of vowels of any fruit in the original series\n",
    "# filtering any fruit that evaluates to true\n",
    "fruits[fruits.str.count('[aeiou]') == fruits.str.count('[aeiou]').max()]"
   ]
  },
  {
   "cell_type": "code",
   "execution_count": 17,
   "metadata": {},
   "outputs": [],
   "source": [
    "# Use pandas to create a Series from the following data:\n",
    "\n",
    "# using pandas to create a series\n",
    "money = pd.Series(['$796,459.41', '$278.60', '$482,571.67', '$4,503,915.98', '$2,121,418.3', '$1,260,813.3', '$87,231.01', '$1,509,175.45', '$4,138,548.00', '$2,848,913.80', '$594,715.39', '$4,789,988.17', '$4,513,644.5', '$3,191,059.97', '$1,758,712.24', '$4,338,283.54', '$4,738,303.38', '$2,791,759.67', '$769,681.94', '$452,650.23'])"
   ]
  },
  {
   "cell_type": "code",
   "execution_count": 18,
   "metadata": {},
   "outputs": [
    {
     "data": {
      "text/plain": [
       "pandas.core.series.Series"
      ]
     },
     "execution_count": 18,
     "metadata": {},
     "output_type": "execute_result"
    }
   ],
   "source": [
    "# What is the data type of the series?\n",
    "\n",
    "# using type to see what data type the series is\n",
    "type(money)"
   ]
  },
  {
   "cell_type": "code",
   "execution_count": 19,
   "metadata": {},
   "outputs": [],
   "source": [
    "# Use series operations to convert the series to a numeric data type.\n",
    "\n",
    "# using str to allow replac to be used\n",
    "# using replace to replace $ and commas with nothing\n",
    "new_money = money.str.replace('$','')\n",
    "new_money = new_money.str.replace(',','')\n",
    "\n",
    "# now that the non numeric friendly characters have been removed we can us astype to change\n",
    "# the type to float \n",
    "new_money = new_money.astype(float)"
   ]
  },
  {
   "cell_type": "code",
   "execution_count": 20,
   "metadata": {},
   "outputs": [
    {
     "data": {
      "text/plain": [
       "4789988.17"
      ]
     },
     "execution_count": 20,
     "metadata": {},
     "output_type": "execute_result"
    }
   ],
   "source": [
    "# What is the maximum value? \n",
    "\n",
    "# using max to find the largest value in the series\n",
    "new_money.max()"
   ]
  },
  {
   "cell_type": "code",
   "execution_count": 21,
   "metadata": {},
   "outputs": [
    {
     "data": {
      "text/plain": [
       "278.6"
      ]
     },
     "execution_count": 21,
     "metadata": {},
     "output_type": "execute_result"
    }
   ],
   "source": [
    "# What is the minimum value?\n",
    "\n",
    "# using min to find the smallest value in the series\n",
    "new_money.min()"
   ]
  },
  {
   "cell_type": "code",
   "execution_count": 22,
   "metadata": {},
   "outputs": [
    {
     "data": {
      "text/plain": [
       "(-4511.11, 1197705.993]       7\n",
       "(3592560.778, 4789988.17]     6\n",
       "(1197705.993, 2395133.385]    4\n",
       "(2395133.385, 3592560.778]    3\n",
       "dtype: int64"
      ]
     },
     "execution_count": 22,
     "metadata": {},
     "output_type": "execute_result"
    }
   ],
   "source": [
    "# Bin the data into 4 equally sized intervals and show how many values fall into each bin.\n",
    "\n",
    "# using cut to bin the data into 4 intervals\n",
    "binned_money = pd.cut(new_money, 4)\n",
    "\n",
    "# using value_counts to display how many values from the series are within each bin\n",
    "binned_money.value_counts()"
   ]
  },
  {
   "cell_type": "code",
   "execution_count": 23,
   "metadata": {},
   "outputs": [
    {
     "data": {
      "text/plain": [
       "(array([3., 4., 1., 2., 1., 2., 1., 0., 1., 5.]),\n",
       " array([2.78600000e+02, 4.79249557e+05, 9.58220514e+05, 1.43719147e+06,\n",
       "        1.91616243e+06, 2.39513339e+06, 2.87410434e+06, 3.35307530e+06,\n",
       "        3.83204626e+06, 4.31101721e+06, 4.78998817e+06]),\n",
       " <a list of 10 Patch objects>)"
      ]
     },
     "execution_count": 23,
     "metadata": {},
     "output_type": "execute_result"
    },
    {
     "data": {
      "image/png": "[encoded data removed]",
      "text/plain": [
       "<Figure size 432x288 with 1 Axes>"
      ]
     },
     "metadata": {
      "needs_background": "light"
     },
     "output_type": "display_data"
    }
   ],
   "source": [
    "# Plot a histogram of the data. Be sure to include a title and axis labels.\n",
    "\n",
    "# importing matplotlib with alias plt\n",
    "import matplotlib.pyplot as plt\n",
    "\n",
    "# setting title of plot\n",
    "plt.title('Money Distribution')\n",
    "\n",
    "# setting x and y labels\n",
    "plt.xlabel('Funds')\n",
    "plt.ylabel('Frequency')\n",
    "\n",
    "# displaying histogram\n",
    "plt.hist(new_money)"
   ]
  },
  {
   "cell_type": "code",
   "execution_count": 24,
   "metadata": {},
   "outputs": [],
   "source": [
    "# Use pandas to create a Series from the following exam scores:\n",
    "\n",
    "# creating series\n",
    "grades = pd.Series([60, 86, 75, 62, 93, 71, 60, 83, 95, 78, 65, 72, 69, 81, 96, 80, 85, 92, 82, 78])"
   ]
  },
  {
   "cell_type": "code",
   "execution_count": 25,
   "metadata": {},
   "outputs": [
    {
     "data": {
      "text/plain": [
       "60"
      ]
     },
     "execution_count": 25,
     "metadata": {},
     "output_type": "execute_result"
    }
   ],
   "source": [
    "# What is the minimum exam score? \n",
    "\n",
    "# using min to find minimum score\n",
    "grades.min()"
   ]
  },
  {
   "cell_type": "code",
   "execution_count": 26,
   "metadata": {},
   "outputs": [
    {
     "data": {
      "text/plain": [
       "96"
      ]
     },
     "execution_count": 26,
     "metadata": {},
     "output_type": "execute_result"
    }
   ],
   "source": [
    "# What is the max exam score? \n",
    "\n",
    "# using max to find maximum score\n",
    "grades.max()"
   ]
  },
  {
   "cell_type": "code",
   "execution_count": 27,
   "metadata": {},
   "outputs": [
    {
     "data": {
      "text/plain": [
       "78.15"
      ]
     },
     "execution_count": 27,
     "metadata": {},
     "output_type": "execute_result"
    }
   ],
   "source": [
    "# What is the mean exam score? \n",
    "\n",
    "# using mean to find the average\n",
    "grades.mean()"
   ]
  },
  {
   "cell_type": "code",
   "execution_count": 28,
   "metadata": {},
   "outputs": [
    {
     "data": {
      "text/plain": [
       "79.0"
      ]
     },
     "execution_count": 28,
     "metadata": {},
     "output_type": "execute_result"
    }
   ],
   "source": [
    "# What is the median exam score? \n",
    "\n",
    "# using median to find the median\n",
    "grades.median()"
   ]
  },
  {
   "cell_type": "code",
   "execution_count": 29,
   "metadata": {},
   "outputs": [
    {
     "data": {
      "text/plain": [
       "(array([3., 1., 1., 2., 1., 4., 3., 1., 1., 3.]),\n",
       " array([60. , 63.6, 67.2, 70.8, 74.4, 78. , 81.6, 85.2, 88.8, 92.4, 96. ]),\n",
       " <a list of 10 Patch objects>)"
      ]
     },
     "execution_count": 29,
     "metadata": {},
     "output_type": "execute_result"
    },
    {
     "data": {
      "image/png": "[encoded data removed]",
      "text/plain": [
       "<Figure size 432x288 with 1 Axes>"
      ]
     },
     "metadata": {
      "needs_background": "light"
     },
     "output_type": "display_data"
    }
   ],
   "source": [
    "# Plot a histogram of the scores.\n",
    "\n",
    "# set title of plot\n",
    "plt.title('Grade Distribution')\n",
    "\n",
    "# set x and y label\n",
    "plt.xlabel('Grade')\n",
    "plt.ylabel('Frequency')\n",
    "\n",
    "# display histogram\n",
    "plt.hist(grades)"
   ]
  },
  {
   "cell_type": "code",
   "execution_count": 30,
   "metadata": {
    "scrolled": true
   },
   "outputs": [
    {
     "name": "stdout",
     "output_type": "stream",
     "text": [
      "0     D\n",
      "1     B\n",
      "2     C\n",
      "3     D\n",
      "4     A\n",
      "5     C\n",
      "6     D\n",
      "7     B\n",
      "8     A\n",
      "9     C\n",
      "10    D\n",
      "11    C\n",
      "12    C\n",
      "13    B\n",
      "14    A\n",
      "15    B\n",
      "16    B\n",
      "17    A\n",
      "18    B\n",
      "19    C\n",
      "dtype: object\n"
     ]
    }
   ],
   "source": [
    "# Convert each of the numbers above into a letter grade. For example, 86 should be a 'B' and 95 should be an 'A'.\n",
    "\n",
    "# creating function\n",
    "def get_letter_grade(i):\n",
    "    # check if argument is int or float type\n",
    "    assert type(i) == int or type(i) == float, 'argument must be in int format' \n",
    "    \n",
    "    # set if and elif statements to return letter grade based on argument passed\n",
    "    # using int(i) in case grade passed is in string form\n",
    "    if int(i) >= 88:     \n",
    "        return 'A'       \n",
    "    elif int(i) >= 80:\n",
    "        return 'B'\n",
    "    elif int(i) >= 67:\n",
    "        return 'C'\n",
    "    elif int(i) >= 60:\n",
    "        return 'D'\n",
    "    elif int(i) < 60:\n",
    "        return 'F'\n",
    "    \n",
    "# using lambda in combination with function to get a letter\n",
    "# grade for each grade in the series\n",
    "letter_grades = grades.apply(lambda n: get_letter_grade(n))\n",
    "\n",
    "print(letter_grades)\n"
   ]
  },
  {
   "cell_type": "code",
   "execution_count": 31,
   "metadata": {},
   "outputs": [
    {
     "name": "stdout",
     "output_type": "stream",
     "text": [
      "0      64\n",
      "1      90\n",
      "2      79\n",
      "3      66\n",
      "4      97\n",
      "5      75\n",
      "6      64\n",
      "7      87\n",
      "8      99\n",
      "9      82\n",
      "10     69\n",
      "11     76\n",
      "12     73\n",
      "13     85\n",
      "14    100\n",
      "15     84\n",
      "16     89\n",
      "17     96\n",
      "18     86\n",
      "19     82\n",
      "dtype: int64\n"
     ]
    }
   ],
   "source": [
    "# Write the code necessary to implement a curve. I.e. that grade closest to 100 should be converted to a 100, and that many points should be given to every other score as well.\n",
    "\n",
    "# using max to find the highest grade and subtract it from 100\n",
    "# adding difference to each grade in series and storing as variable\n",
    "curved_grades = grades + (100 - grades.max())\n",
    "\n",
    "# display results\n",
    "print(curved_grades)"
   ]
  },
  {
   "cell_type": "code",
   "execution_count": 32,
   "metadata": {},
   "outputs": [],
   "source": [
    "# Use pandas to create a Series from the following string:\n",
    "\n",
    "# converting string to list to that when we convert to series, each letter will be a separate element in the series\n",
    "letters = list('hnvidduckkqxwymbimkccexbkmqygkxoyndmcxnwqarhyffsjpsrabtjzsypmzadfavyrnndndvswreauxovncxtwzpwejilzjrmmbbgbyxvjtewqthafnbkqplarokkyydtubbmnexoypulzwfhqvckdpqtpoppzqrmcvhhpwgjwupgzhiofohawytlsiyecuproguy')\n",
    "\n",
    "# converting list to series and storing as variable\n",
    "letters = pd.Series(letters)"
   ]
  },
  {
   "cell_type": "code",
   "execution_count": 33,
   "metadata": {},
   "outputs": [
    {
     "name": "stdout",
     "output_type": "stream",
     "text": [
      "y    13\n",
      "dtype: int64\n"
     ]
    }
   ],
   "source": [
    "# What is the most frequently occuring letter? \n",
    "\n",
    "# using value_counts to create a series that holds each letter and the number of times its occurs in the series. \n",
    "# using iloc to display the first letter in the series (ie. the one with the highest frequency since they\n",
    "# they are sorted by value) and its frequency count, storing as variable\n",
    "most_freq = letters.value_counts().iloc[[0]]\n",
    "\n",
    "# display results\n",
    "print(most_freq)\n",
    " "
   ]
  },
  {
   "cell_type": "code",
   "execution_count": 34,
   "metadata": {},
   "outputs": [
    {
     "name": "stdout",
     "output_type": "stream",
     "text": [
      "l    4\n",
      "dtype: int64\n"
     ]
    }
   ],
   "source": [
    "# Least frequently occuring?\n",
    "\n",
    "# using value_counts to create a series that holds each letter and the number of times its occurs in the series. \n",
    "# using iloc to display the last letter in the series (ie. the one with the lowest frequency since they\n",
    "# they are sorted by value) and its frequency count, storing as variable\n",
    "least_freq = letters.value_counts().iloc[[-1]]\n",
    "\n",
    "# display results\n",
    "print(least_freq) "
   ]
  },
  {
   "cell_type": "code",
   "execution_count": 35,
   "metadata": {},
   "outputs": [
    {
     "name": "stdout",
     "output_type": "stream",
     "text": [
      "34\n"
     ]
    }
   ],
   "source": [
    "# How many vowels are in the list?\n",
    "\n",
    "# using str to allow count to be used\n",
    "# using count to count the number of vowels\n",
    "# using sum to sum the amount of vowels in total\n",
    "# store as variable\n",
    "letter_vowels = sum(letters.str.count('[aeiou]'))\n",
    "\n",
    "# display results\n",
    "print(letter_vowels)"
   ]
  },
  {
   "cell_type": "code",
   "execution_count": 36,
   "metadata": {},
   "outputs": [
    {
     "name": "stdout",
     "output_type": "stream",
     "text": [
      "166\n"
     ]
    }
   ],
   "source": [
    "# How many consonants are in the list?\n",
    "\n",
    "# using str to allow count to be used\n",
    "# using count to count the number of characters that are not vowels \n",
    "# using sum to sum the amount of vowels in total\n",
    "# store as variable\n",
    "consonants = sum(letters.str.count('[^aeiou]'))\n",
    "\n",
    "# display results\n",
    "print(consonants)"
   ]
  },
  {
   "cell_type": "code",
   "execution_count": 37,
   "metadata": {},
   "outputs": [
    {
     "name": "stdout",
     "output_type": "stream",
     "text": [
      "0      H\n",
      "1      N\n",
      "2      V\n",
      "3      I\n",
      "4      D\n",
      "      ..\n",
      "195    R\n",
      "196    O\n",
      "197    G\n",
      "198    U\n",
      "199    Y\n",
      "Length: 200, dtype: object\n"
     ]
    }
   ],
   "source": [
    "# Create a series that has all of the same letters, but uppercased\n",
    "\n",
    "# using str to allow upper to be used\n",
    "# using upper to capitalize every letter in the series\n",
    "# store as variable\n",
    "upper_letters = letters.str.upper()\n",
    "\n",
    "# display results\n",
    "print(upper_letters)"
   ]
  },
  {
   "cell_type": "code",
   "execution_count": 38,
   "metadata": {},
   "outputs": [
    {
     "data": {
      "text/plain": [
       "<BarContainer object of 6 artists>"
      ]
     },
     "execution_count": 38,
     "metadata": {},
     "output_type": "execute_result"
    },
    {
     "data": {
      "image/png": "[encoded data removed]",
      "text/plain": [
       "<Figure size 432x288 with 1 Axes>"
      ]
     },
     "metadata": {
      "needs_background": "light"
     },
     "output_type": "display_data"
    }
   ],
   "source": [
    "# Create a bar plot of the frequencies of the 6 most frequently occuring letters.\n",
    "\n",
    "# using value_counts to create a series\n",
    "# using head(6) to specify that only 6 letters and their respective counts should be displayed\n",
    "# since value_counts sorts by value, these will be the 6 most frequently ocurring letters\n",
    "# store as variable\n",
    "high_freq = letters.value_counts().head(6)\n",
    "\n",
    "# set plot title\n",
    "plt.title('Letter Frequency Graph')\n",
    "\n",
    "# set x and y lables\n",
    "plt.xlabel('Letter')\n",
    "plt.ylabel('Frequency')\n",
    "\n",
    "# set values for x and y\n",
    "x = high_freq.index\n",
    "y = high_freq\n",
    "\n",
    "# plot bar graph\n",
    "plt.bar(x,y)\n"
   ]
  },
  {
   "cell_type": "code",
   "execution_count": 59,
   "metadata": {},
   "outputs": [],
   "source": [
    "# 17 LIST COMPREHENSION PROBLEMS IN PYTHON\n",
    "\n",
    "# convert lists into pandas series\n",
    "fruits = pd.Series(['mango', 'kiwi', 'strawberry', 'guava', 'pineapple', 'mandarin orange'])\n",
    "numbers = pd.Series([2, 3, 4, 5, 6, 7, 8, 9, 10, 11, 13, 17, 19, 23, 256, -8, -4, -2, 5, -9])\n"
   ]
  },
  {
   "cell_type": "code",
   "execution_count": 62,
   "metadata": {},
   "outputs": [
    {
     "name": "stdout",
     "output_type": "stream",
     "text": [
      "0              MANGO\n",
      "1               KIWI\n",
      "2         STRAWBERRY\n",
      "3              GUAVA\n",
      "4          PINEAPPLE\n",
      "5    MANDARIN ORANGE\n",
      "dtype: object\n"
     ]
    }
   ],
   "source": [
    "# Exercise 1 - rewrite the above example code using list comprehension syntax. Make a variable named uppercased_fruits to hold the output of the list comprehension. Output should be ['MANGO', 'KIWI', etc...]\n",
    "\n",
    "uppercased_fruits = fruits.str.upper()\n",
    "\n",
    "print(uppercased_fruits)\n"
   ]
  },
  {
   "cell_type": "code",
   "execution_count": 64,
   "metadata": {},
   "outputs": [
    {
     "name": "stdout",
     "output_type": "stream",
     "text": [
      "0              Mango\n",
      "1               Kiwi\n",
      "2         Strawberry\n",
      "3              Guava\n",
      "4          Pineapple\n",
      "5    Mandarin orange\n",
      "dtype: object\n"
     ]
    }
   ],
   "source": [
    "# Exercise 2 - create a variable named capitalized_fruits and use list comprehension syntax to produce output like ['Mango', 'Kiwi', 'Strawberry', etc...]\n",
    "\n",
    "capitalized_fruits = fruits.str.capitalize()\n",
    "\n",
    "print(capitalized_fruits)"
   ]
  },
  {
   "cell_type": "code",
   "execution_count": 67,
   "metadata": {},
   "outputs": [
    {
     "name": "stdout",
     "output_type": "stream",
     "text": [
      "3              guava\n",
      "4          pineapple\n",
      "5    mandarin orange\n",
      "dtype: object\n"
     ]
    }
   ],
   "source": [
    "# Exercise 3 - Use a list comprehension to make a variable named fruits_with_more_than_two_vowels. Hint: You'll need a way to check if something is a vowel.\n",
    "\n",
    "fruits_with_more_than_two_vowels = fruits[fruits.str.count('[aeiou]') > 2]\n",
    "\n",
    "print(fruits_with_more_than_two_vowels)"
   ]
  },
  {
   "cell_type": "code",
   "execution_count": 69,
   "metadata": {},
   "outputs": [
    {
     "name": "stdout",
     "output_type": "stream",
     "text": [
      "0         mango\n",
      "1          kiwi\n",
      "2    strawberry\n",
      "dtype: object\n"
     ]
    }
   ],
   "source": [
    "# Exercise 4 - make a variable named fruits_with_only_two_vowels. The result should be ['mango', 'kiwi', 'strawberry']\n",
    "\n",
    "fruits_with_only_two_vowels = fruits[fruits.str.count('[aeiou]') == 2]\n",
    "\n",
    "print(fruits_with_only_two_vowels)\n"
   ]
  },
  {
   "cell_type": "code",
   "execution_count": 75,
   "metadata": {},
   "outputs": [
    {
     "name": "stdout",
     "output_type": "stream",
     "text": [
      "2         strawberry\n",
      "4          pineapple\n",
      "5    mandarin orange\n",
      "dtype: object\n"
     ]
    }
   ],
   "source": [
    "# Exercise 5 - make a list that contains each fruit with more than 5 characters\n",
    "\n",
    "fruits_with_more_than_five_chars = fruits[fruits.str.len() > 5]\n",
    "\n",
    "print(fruits_with_more_than_five_chars)\n"
   ]
  },
  {
   "cell_type": "code",
   "execution_count": 76,
   "metadata": {},
   "outputs": [
    {
     "name": "stdout",
     "output_type": "stream",
     "text": [
      "0    mango\n",
      "3    guava\n",
      "dtype: object\n"
     ]
    }
   ],
   "source": [
    "# Exercise 6 - make a list that contains each fruit with exactly 5 characters\n",
    "\n",
    "fruits_with_exactly_five_chars = fruits[fruits.str.len() == 5]\n",
    "\n",
    "print(fruits_with_exactly_five_chars)"
   ]
  },
  {
   "cell_type": "code",
   "execution_count": 78,
   "metadata": {},
   "outputs": [
    {
     "name": "stdout",
     "output_type": "stream",
     "text": [
      "1    kiwi\n",
      "dtype: object\n"
     ]
    }
   ],
   "source": [
    "# Exercise 7 - Make a list that contains fruits that have less than 5 characters\n",
    "\n",
    "fruits_with_less_than_5_chars = fruits[fruits.str.len() < 5]\n",
    "\n",
    "print(fruits_with_less_than_5_chars)\n"
   ]
  },
  {
   "cell_type": "code",
   "execution_count": 110,
   "metadata": {},
   "outputs": [
    {
     "name": "stdout",
     "output_type": "stream",
     "text": [
      "0     5\n",
      "1     4\n",
      "2    10\n",
      "3     5\n",
      "4     9\n",
      "5    15\n",
      "dtype: int64\n"
     ]
    }
   ],
   "source": [
    "# Exercise 8 - Make a list containing the number of characters in each fruit. Output would be [5, 4, 10, etc... ]\n",
    "\n",
    "number_of_chars_in_each_fruit = fruits.str.len()\n",
    "\n",
    "print(number_of_chars_in_each_fruit)"
   ]
  },
  {
   "cell_type": "code",
   "execution_count": 118,
   "metadata": {},
   "outputs": [
    {
     "name": "stdout",
     "output_type": "stream",
     "text": [
      "0              mango\n",
      "2         strawberry\n",
      "3              guava\n",
      "4          pineapple\n",
      "5    mandarin orange\n",
      "dtype: object\n"
     ]
    }
   ],
   "source": [
    "# Exercise 9 - Make a variable named fruits_with_letter_a that contains a list of only the fruits that contain the letter \"a\"\n",
    "\n",
    "fruits_with_letter_a = fruits[fruits.str.count('a') > 0]\n",
    "\n",
    "print(fruits_with_letter_a)"
   ]
  },
  {
   "cell_type": "code",
   "execution_count": 128,
   "metadata": {},
   "outputs": [
    {
     "name": "stdout",
     "output_type": "stream",
     "text": [
      "0       2\n",
      "2       4\n",
      "4       6\n",
      "6       8\n",
      "8      10\n",
      "14    256\n",
      "15     -8\n",
      "16     -4\n",
      "17     -2\n",
      "dtype: int64\n"
     ]
    }
   ],
   "source": [
    "# Exercise 10 - Make a variable named even_numbers that holds only the even numbers \n",
    "\n",
    "even_numbers = numbers[numbers % 2 == 0]\n",
    "\n",
    "print(even_numbers)\n"
   ]
  },
  {
   "cell_type": "code",
   "execution_count": 125,
   "metadata": {},
   "outputs": [
    {
     "name": "stdout",
     "output_type": "stream",
     "text": [
      "1      3\n",
      "3      5\n",
      "5      7\n",
      "7      9\n",
      "9     11\n",
      "10    13\n",
      "11    17\n",
      "12    19\n",
      "13    23\n",
      "18     5\n",
      "19    -9\n",
      "dtype: int64\n"
     ]
    }
   ],
   "source": [
    "# Exercise 11 - Make a variable named odd_numbers that holds only the odd numbers\n",
    "\n",
    "odd_numbers = numbers[numbers % 2 == 1]\n",
    "\n",
    "print(odd_numbers)"
   ]
  },
  {
   "cell_type": "code",
   "execution_count": 131,
   "metadata": {},
   "outputs": [
    {
     "name": "stdout",
     "output_type": "stream",
     "text": [
      "0       2\n",
      "1       3\n",
      "2       4\n",
      "3       5\n",
      "4       6\n",
      "5       7\n",
      "6       8\n",
      "7       9\n",
      "8      10\n",
      "9      11\n",
      "10     13\n",
      "11     17\n",
      "12     19\n",
      "13     23\n",
      "14    256\n",
      "18      5\n",
      "dtype: int64\n"
     ]
    }
   ],
   "source": [
    "# Exercise 12 - Make a variable named positive_numbers that holds only the positive numbers\n",
    "\n",
    "positive_numbers = numbers[numbers > 0]\n",
    "\n",
    "print(positive_numbers)"
   ]
  },
  {
   "cell_type": "code",
   "execution_count": 133,
   "metadata": {},
   "outputs": [
    {
     "name": "stdout",
     "output_type": "stream",
     "text": [
      "15   -8\n",
      "16   -4\n",
      "17   -2\n",
      "19   -9\n",
      "dtype: int64\n"
     ]
    }
   ],
   "source": [
    "# Exercise 13 - Make a variable named negative_numbers that holds only the negative numbers\n",
    "\n",
    "negative_numbers = numbers[numbers < 0]\n",
    "\n",
    "print(negative_numbers)\n"
   ]
  },
  {
   "cell_type": "code",
   "execution_count": 142,
   "metadata": {},
   "outputs": [
    {
     "name": "stdout",
     "output_type": "stream",
     "text": [
      "8      10\n",
      "9      11\n",
      "10     13\n",
      "11     17\n",
      "12     19\n",
      "13     23\n",
      "14    256\n",
      "dtype: int64\n"
     ]
    }
   ],
   "source": [
    "# Exercise 14 - use a list comprehension w/ a conditional in order to produce a list of numbers with 2 or more numerals\n",
    "\n",
    "numbers_with_two_or_more_numerals = numbers[numbers.abs().astype(str).str.len() >= 2]\n",
    "\n",
    "print(numbers_with_two_or_more_numerals)"
   ]
  },
  {
   "cell_type": "code",
   "execution_count": 145,
   "metadata": {},
   "outputs": [
    {
     "name": "stdout",
     "output_type": "stream",
     "text": [
      "0         4\n",
      "1         9\n",
      "2        16\n",
      "3        25\n",
      "4        36\n",
      "5        49\n",
      "6        64\n",
      "7        81\n",
      "8       100\n",
      "9       121\n",
      "10      169\n",
      "11      289\n",
      "12      361\n",
      "13      529\n",
      "14    65536\n",
      "15       64\n",
      "16       16\n",
      "17        4\n",
      "18       25\n",
      "19       81\n",
      "dtype: int64\n"
     ]
    }
   ],
   "source": [
    "# Exercise 15 - Make a variable named numbers_squared that contains the numbers list with each element squared. Output is [4, 9, 16, etc...]\n",
    "\n",
    "numbers_squared = numbers ** 2\n",
    "\n",
    "print(numbers_squared)"
   ]
  },
  {
   "cell_type": "code",
   "execution_count": 182,
   "metadata": {},
   "outputs": [
    {
     "name": "stdout",
     "output_type": "stream",
     "text": [
      "19   -9\n",
      "dtype: int64\n"
     ]
    }
   ],
   "source": [
    "# Exercise 16 - Make a variable named odd_negative_numbers that contains only the numbers that are both odd and negative.\n",
    "\n",
    "odd_negative_numbers = numbers[(numbers < 0) & (numbers % 2 == 1)]\n",
    "\n",
    "print(odd_negative_numbers)"
   ]
  },
  {
   "cell_type": "code",
   "execution_count": 149,
   "metadata": {},
   "outputs": [
    {
     "name": "stdout",
     "output_type": "stream",
     "text": [
      "0       7\n",
      "1       8\n",
      "2       9\n",
      "3      10\n",
      "4      11\n",
      "5      12\n",
      "6      13\n",
      "7      14\n",
      "8      15\n",
      "9      16\n",
      "10     18\n",
      "11     22\n",
      "12     24\n",
      "13     28\n",
      "14    261\n",
      "15     -3\n",
      "16      1\n",
      "17      3\n",
      "18     10\n",
      "19     -4\n",
      "dtype: int64\n"
     ]
    }
   ],
   "source": [
    "# Exercise 17 - Make a variable named numbers_plus_5. In it, return a list containing each number plus five. \n",
    "\n",
    "numbers_plus_5 = numbers + 5\n",
    "\n",
    "print(numbers_plus_5)"
   ]
  },
  {
   "cell_type": "code",
   "execution_count": 188,
   "metadata": {},
   "outputs": [
    {
     "name": "stdout",
     "output_type": "stream",
     "text": [
      "0      2\n",
      "1      3\n",
      "3      5\n",
      "5      7\n",
      "9     11\n",
      "10    13\n",
      "11    17\n",
      "12    19\n",
      "13    23\n",
      "18     5\n",
      "dtype: int64\n"
     ]
    }
   ],
   "source": [
    "# BONUS Make a variable named \"primes\" that is a list containing the prime numbers in the numbers list. *Hint* you may want to make or find a helper function that determines if a given number is prime or not.\n",
    "\n",
    "def test_prime(n):\n",
    "    if (n == 1):\n",
    "        return False\n",
    "    elif (n < 0):\n",
    "        return False\n",
    "    elif (n == 2):\n",
    "        return True;\n",
    "    else:\n",
    "        for x in range(2,n):\n",
    "            if(n % x == 0):\n",
    "                return False\n",
    "        return True\n",
    "\n",
    "primes = numbers[numbers.apply(lambda n: test_prime(n))]\n",
    "\n",
    "print(primes)"
   ]
  },
  {
   "cell_type": "code",
   "execution_count": null,
   "metadata": {},
   "outputs": [],
   "source": []
  },
  {
   "cell_type": "code",
   "execution_count": null,
   "metadata": {},
   "outputs": [],
   "source": []
  },
  {
   "cell_type": "code",
   "execution_count": null,
   "metadata": {},
   "outputs": [],
   "source": []
  },
  {
   "cell_type": "code",
   "execution_count": null,
   "metadata": {},
   "outputs": [],
   "source": []
  },
  {
   "cell_type": "code",
   "execution_count": null,
   "metadata": {},
   "outputs": [],
   "source": []
  },
  {
   "cell_type": "code",
   "execution_count": null,
   "metadata": {},
   "outputs": [],
   "source": []
  }
 ],
 "metadata": {
  "kernelspec": {
   "display_name": "Python 3",
   "language": "python",
   "name": "python3"
  },
  "language_info": {
   "codemirror_mode": {
    "name": "ipython",
    "version": 3
   },
   "file_extension": ".py",
   "mimetype": "text/x-python",
   "name": "python",
   "nbconvert_exporter": "python",
   "pygments_lexer": "ipython3",
   "version": "3.7.6"
  }
 },
 "nbformat": 4,
 "nbformat_minor": 4
}
